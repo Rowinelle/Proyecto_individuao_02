{
 "cells": [
  {
   "cell_type": "code",
   "execution_count": 139,
   "metadata": {},
   "outputs": [
    {
     "data": {
      "text/html": [
       "<style>.container{width:100% !important; }</style>"
      ],
      "text/plain": [
       "<IPython.core.display.HTML object>"
      ]
     },
     "metadata": {},
     "output_type": "display_data"
    }
   ],
   "source": [
    "import pandas as pd\n",
    "import numpy as np\n",
    "import seaborn as sns\n",
    "from IPython.display import display, HTML\n",
    "display(HTML(\"<style>.container{width:100% !important; }</style>\"))\n",
    "import matplotlib.pyplot as plt\n",
    "font = {'size':14}\n",
    "import matplotlib\n",
    "matplotlib.rc('font',**font)\n",
    "from datetime import datetime\n",
    "from wordcloud import WordCloud, STOPWORDS\n"
   ]
  },
  {
   "attachments": {},
   "cell_type": "markdown",
   "metadata": {},
   "source": [
    "DATASETS A UTILIZAR:"
   ]
  },
  {
   "cell_type": "code",
   "execution_count": 140,
   "metadata": {},
   "outputs": [],
   "source": [
    "udemy = pd.read_csv('DATASETS/udemy.csv')\n",
    "#edx = pd.read_csv('DATASETS/edx.csv')\n",
    "#oulad = pd.read_csv('DATASETS/oulad_student.csv')\n",
    "#coursera_rev = pd.read_csv('DATASETS/Coursera_reviews.csv')\n",
    "#coursera_cursos = pd.read_csv('DATASETS/coursera_data.csv')"
   ]
  },
  {
   "cell_type": "code",
   "execution_count": 152,
   "metadata": {},
   "outputs": [],
   "source": [
    "edx = pd.read_csv('DATASETS/edx.csv')"
   ]
  },
  {
   "cell_type": "code",
   "execution_count": null,
   "metadata": {},
   "outputs": [],
   "source": [
    "oulad = pd.read_csv('DATASETS/oulad_student.csv')"
   ]
  },
  {
   "cell_type": "code",
   "execution_count": null,
   "metadata": {},
   "outputs": [],
   "source": [
    "coursera_rev = pd.read_csv('DATASETS/Coursera_reviews.csv')"
   ]
  },
  {
   "cell_type": "code",
   "execution_count": null,
   "metadata": {},
   "outputs": [],
   "source": [
    "coursera_data = pd.read_csv('DATASETS/coursera_data.csv')"
   ]
  },
  {
   "attachments": {},
   "cell_type": "markdown",
   "metadata": {},
   "source": [
    "### TRANSFORMACION ###"
   ]
  },
  {
   "cell_type": "code",
   "execution_count": 141,
   "metadata": {},
   "outputs": [],
   "source": [
    "# transformar a timestamp\n",
    "# extraer anio y mes\n",
    "udemy['published_timestamp'] = pd.to_datetime(udemy['published_timestamp'])\n",
    "udemy['published_year'] = udemy['published_timestamp'].dt.year\n",
    "udemy['published_month'] = udemy['published_timestamp'].dt.month"
   ]
  },
  {
   "cell_type": "code",
   "execution_count": 142,
   "metadata": {},
   "outputs": [],
   "source": [
    "# convertir campos int u obj, a informacion categorica\n",
    "udemy['course_id'] = udemy['course_id'].astype('category')\n",
    "udemy['level'] = udemy['level'].astype('category')\n",
    "udemy['subject'] = udemy['subject'].astype('category')"
   ]
  },
  {
   "cell_type": "code",
   "execution_count": 153,
   "metadata": {},
   "outputs": [],
   "source": [
    "edx['course_type'] = edx['course_type'].astype('category')\n",
    "edx['Level'] = edx['Level'].astype('category')\n",
    "edx['subject'] = edx['subject'].astype('category')\n",
    "edx['language'] = edx['language'].astype('category')"
   ]
  },
  {
   "cell_type": "code",
   "execution_count": null,
   "metadata": {},
   "outputs": [],
   "source": [
    "coursera_data['course_Certificate_type'] = coursera_data[\"course_Certificate_type\"].astype('category') \n",
    "coursera_data['course_difficulty'] = coursera_data[\"course_difficulty\"].astype('category') "
   ]
  },
  {
   "cell_type": "code",
   "execution_count": 143,
   "metadata": {},
   "outputs": [],
   "source": [
    "# convertir datos bool \n",
    "diccionario = {True : 'si', False: 'no'}\n",
    "udemy['isPaid'] = udemy.is_paid.map(diccionario)"
   ]
  },
  {
   "cell_type": "code",
   "execution_count": 144,
   "metadata": {},
   "outputs": [],
   "source": [
    "#discretizacion udemy\n",
    "#el número de intervalos y la amplitud se han calculado manualmente\n",
    "# se usan las marcas de clase como etiquetas\n",
    "content_bins = [0, 7, 14, 21, 28, 35, 42, 49, 56, 63, 70, 77]\n",
    "content_labels = ['0-6.99', '7-13.99', '14-20.99', '21-27.99', '28-34.99', '35-41.99', '42-48.99', '49-55.99', '56-62.99', '63-69.99', '70-76.99']"
   ]
  },
  {
   "cell_type": "code",
   "execution_count": 145,
   "metadata": {},
   "outputs": [],
   "source": [
    "duration = pd.cut(udemy.content_duration, content_bins, labels = content_labels)\n",
    "udemy['rank_duration_hours'] = duration\n",
    "udemy['cMark_duration'] = duration"
   ]
  },
  {
   "cell_type": "code",
   "execution_count": 146,
   "metadata": {},
   "outputs": [],
   "source": [
    "def marcaClase(dato):\n",
    "    mapping = {\n",
    "        '0-6.99': 3.5,\n",
    "        '7-13.99': 10.5,\n",
    "        '14-20.99': 17.5,\n",
    "        '21-27.99': 24.5,\n",
    "        '28-34.99': 31.5,\n",
    "        '35-41.99': 38.5,\n",
    "        '42-48.99': 45.5,\n",
    "        '49-55.99': 52.5,\n",
    "        '56-62.99': 59.5,\n",
    "        '63-69.99': 66.5,\n",
    "        '70-76.99': 73.5,\n",
    "        '77-83.99': 80.5,\n",
    "    }\n",
    "    return mapping.get(dato, dato)\n",
    "\n",
    "udemy['cMark_duration'] = udemy['cMark_duration'].apply(marcaClase)\n"
   ]
  },
  {
   "cell_type": "code",
   "execution_count": null,
   "metadata": {},
   "outputs": [],
   "source": []
  },
  {
   "cell_type": "code",
   "execution_count": 147,
   "metadata": {},
   "outputs": [],
   "source": [
    "lecture_bins = [0, 60, 120, 180, 240, 300, 360, 420, 480, 540, 600, 660, 720]\n",
    "lecture_labels = ['0-59.99', '60-119.99', '120-179.99', '180-239.99', '240-299.99', '300-359.99', '360-419.99', '420-479.99', '480-539.99', '540-599.99', '600-659.99', '660-719.99']\n",
    "\n",
    "nLectures = pd.cut(udemy.num_lectures, lecture_bins, labels = lecture_labels)\n",
    "udemy['rank_nLectures'] = nLectures\n",
    "udemy['cMark_nLectures'] = nLectures"
   ]
  },
  {
   "cell_type": "code",
   "execution_count": 148,
   "metadata": {},
   "outputs": [],
   "source": [
    "def marcaClaseLec(dato):\n",
    "    mapping = {\n",
    "        '0-59.99': 30.0,\n",
    "        '60-119.99': 90.0,\n",
    "        '120-179.99': 150.0,\n",
    "        '180-239.99': 210.0,\n",
    "        '240-299.99': 270.0,\n",
    "        '300-359.99': 330.0,\n",
    "        '360-419.99': 390.0,\n",
    "        '420-479.99': 450.0,\n",
    "        '480-539.99': 510.0,\n",
    "        '540-599.99': 570.0,\n",
    "        '600-659.99': 630.0,\n",
    "        '660-719.99': 690.0,\n",
    "    }\n",
    "    return mapping.get(dato, dato)\n",
    "\n",
    "udemy['cMark_nLectures'] = udemy['cMark_nLectures'].apply(marcaClaseLec)"
   ]
  },
  {
   "cell_type": "code",
   "execution_count": 149,
   "metadata": {},
   "outputs": [],
   "source": [
    "#se agrega unidad de medida de tiempo \n",
    "udemy = udemy.rename(columns = {'content_duration':'total_duration_hours'})"
   ]
  },
  {
   "cell_type": "code",
   "execution_count": 150,
   "metadata": {},
   "outputs": [],
   "source": [
    "# se eliminan columnas que no se usarán\n",
    "del udemy['url']\n",
    "del udemy['is_paid']"
   ]
  },
  {
   "cell_type": "code",
   "execution_count": 154,
   "metadata": {},
   "outputs": [],
   "source": [
    "#convertír los nan  de num de inscruptos a 0\n",
    "edx['n_enrolled'] = edx['n_enrolled'].str.replace(',', '').fillna(0).astype(int)"
   ]
  },
  {
   "cell_type": "code",
   "execution_count": 155,
   "metadata": {},
   "outputs": [],
   "source": [
    "#extraer precio del certificado\n",
    "edx[['precio2','certificate_price']] = edx.price.str.split(pat = '$', expand = True)\n",
    "edx['certificate_price'] = edx['certificate_price'].str.extract(r'(\\d+\\.?\\d*)').astype(float)\n",
    "del edx['precio2']"
   ]
  },
  {
   "cell_type": "code",
   "execution_count": 156,
   "metadata": {},
   "outputs": [],
   "source": [
    "del edx['course_url']\n",
    "del edx['instructors']"
   ]
  },
  {
   "cell_type": "code",
   "execution_count": null,
   "metadata": {},
   "outputs": [],
   "source": [
    "# discretizacion edx"
   ]
  },
  {
   "cell_type": "code",
   "execution_count": 163,
   "metadata": {},
   "outputs": [
    {
     "data": {
      "text/plain": [
       "417      5.0\n",
       "458      5.0\n",
       "466      5.0\n",
       "136      5.0\n",
       "6        5.0\n",
       "       ...  \n",
       "594    375.0\n",
       "19     399.0\n",
       "842    399.0\n",
       "543    399.6\n",
       "157    450.0\n",
       "Name: certificate_price, Length: 975, dtype: float64"
      ]
     },
     "execution_count": 163,
     "metadata": {},
     "output_type": "execute_result"
    }
   ],
   "source": [
    "edx.certificate_price.sort_values(ascending=True)"
   ]
  },
  {
   "cell_type": "code",
   "execution_count": 166,
   "metadata": {},
   "outputs": [],
   "source": [
    "# discretizar edx price\n",
    "cert_bins = [5, 46, 87, 128, 169, 210, 251, 292, 333, 374, 415]\n",
    "cert_labels = ['5-45.99', '46-86.99', '87-127.99', '128-168.99', '169-209.99', '210-250.99', '251-291.99', '292-332.99', '333-373.99', '374-415.99']\n",
    "\n",
    "cert_price = pd.cut(edx.certificate_price, cert_bins, labels = cert_labels)\n",
    "edx['rank_cert_price'] = cert_price\n",
    "edx['cMark_cert_price'] = cert_price"
   ]
  },
  {
   "cell_type": "code",
   "execution_count": 167,
   "metadata": {},
   "outputs": [],
   "source": [
    "def marcaClaseCert(dato):\n",
    "    mapping = {\n",
    "        '5-45.99': 25.5,\n",
    "        '46-86.99': 66.5,\n",
    "        '87-127.99': 107.5,\n",
    "        '128-168.99': 148.5,\n",
    "        '169-209.99': 189.5,\n",
    "        '210-250.99': 230.5,\n",
    "        '251-291.99': 271.5,\n",
    "        '292-332.99': 312.5,\n",
    "        '333-373.99': 353.5,\n",
    "        '374-415.99': 394.5,\n",
    "    }\n",
    "    return mapping.get(dato, dato)\n",
    "\n",
    "edx['cMark_cert_price'] = edx['cMark_cert_price'].apply(marcaClaseCert)"
   ]
  },
  {
   "attachments": {},
   "cell_type": "markdown",
   "metadata": {},
   "source": []
  },
  {
   "cell_type": "code",
   "execution_count": null,
   "metadata": {},
   "outputs": [],
   "source": [
    "#agrego indice para unir con otro df\n",
    "coursera_rev['index'] = range(len(coursera_rev))\n",
    "coursera_data['index'] = range(len(coursera_data))"
   ]
  },
  {
   "cell_type": "code",
   "execution_count": null,
   "metadata": {},
   "outputs": [],
   "source": [
    "# fecha a formato timestamp\n",
    "# extraigo anio\n",
    "coursera_rev['date_reviews'] = coursera_rev['date_reviews'].apply(lambda x: datetime.strptime(x, '%b %d, %Y'))\n",
    "coursera_rev['year'] = coursera_rev['date_reviews'].dt.year\n"
   ]
  },
  {
   "cell_type": "code",
   "execution_count": null,
   "metadata": {},
   "outputs": [],
   "source": [
    "edx.info()"
   ]
  },
  {
   "cell_type": "code",
   "execution_count": null,
   "metadata": {},
   "outputs": [],
   "source": [
    "coursera_rev[coursera_rev['reviews'].isna()]"
   ]
  },
  {
   "cell_type": "code",
   "execution_count": null,
   "metadata": {},
   "outputs": [],
   "source": [
    "#join con cursos\n",
    "#traigo lo que necesito para identificar al curso sobre el que se hace la resenia\n",
    "columnas = ['name','institution', 'course_id']\n",
    "coursera_cursos = pd.read_csv('DATASETS\\Coursera_courses.csv', usecols=columnas)"
   ]
  },
  {
   "cell_type": "code",
   "execution_count": null,
   "metadata": {},
   "outputs": [],
   "source": [
    "# se eliminan duplicados\n",
    "print(coursera_cursos[coursera_cursos['name'].duplicated()])\n",
    "coursera_cursos = coursera_cursos.drop_duplicates(subset = 'name')"
   ]
  },
  {
   "cell_type": "code",
   "execution_count": null,
   "metadata": {},
   "outputs": [],
   "source": [
    "# join\n",
    "coursera_rev = coursera_rev.merge(coursera_cursos, how = 'outer', on = 'course_id')"
   ]
  },
  {
   "cell_type": "code",
   "execution_count": null,
   "metadata": {},
   "outputs": [],
   "source": [
    "#se eliminan los registros vacios para Rating\n",
    "coursera_rev = coursera_rev.dropna(subset = 'rating')"
   ]
  },
  {
   "cell_type": "code",
   "execution_count": null,
   "metadata": {},
   "outputs": [],
   "source": [
    "# convierto campo: cantidad de inscriptos\n",
    "def convertir_cifra(numero):\n",
    "    numero = numero.lower()\n",
    "    if 'k' in numero:\n",
    "        numero_sin_k = numero.replace('k', '')\n",
    "        if '.' in numero_sin_k:\n",
    "            return float(numero_sin_k) * 1000\n",
    "        else:\n",
    "            return int(numero_sin_k) * 1000\n",
    "    elif 'm' in numero:\n",
    "        numero_sin_m = numero.replace('m', '')\n",
    "        if '.' in numero_sin_m:\n",
    "            return float(numero_sin_m) * 1000000\n",
    "        else:\n",
    "            return int(numero_sin_m) * 1000000\n",
    "    else:\n",
    "        return int(numero)\n"
   ]
  },
  {
   "cell_type": "code",
   "execution_count": null,
   "metadata": {},
   "outputs": [],
   "source": [
    "coursera_data['course_students_enrolled'] = coursera_data['course_students_enrolled'].apply(convertir_cifra)"
   ]
  },
  {
   "cell_type": "code",
   "execution_count": null,
   "metadata": {},
   "outputs": [],
   "source": [
    "# se exportan los archivos ya limpios para trabajar en PowerBI"
   ]
  },
  {
   "cell_type": "code",
   "execution_count": 151,
   "metadata": {},
   "outputs": [],
   "source": [
    "udemy.to_csv(r'C:\\Users\\romin\\Documents\\PROGRAMACION\\CIENCIA DE DATOS\\HENRY\\LABS\\PROYECTO INDIVIDUAL 2 analytics\\repo P2\\dsets\\udemy.csv')"
   ]
  },
  {
   "cell_type": "code",
   "execution_count": 168,
   "metadata": {},
   "outputs": [],
   "source": [
    "edx.to_csv(r'C:\\Users\\romin\\Documents\\PROGRAMACION\\CIENCIA DE DATOS\\HENRY\\LABS\\PROYECTO INDIVIDUAL 2 analytics\\repo P2\\dsets\\edx.csv')"
   ]
  },
  {
   "cell_type": "code",
   "execution_count": null,
   "metadata": {},
   "outputs": [],
   "source": [
    "coursera_rev.to_csv(r'C:\\Users\\romin\\Documents\\PROGRAMACION\\CIENCIA DE DATOS\\HENRY\\LABS\\PROYECTO INDIVIDUAL 2 analytics\\repo P2\\dsets\\C_reviews.csv')"
   ]
  },
  {
   "cell_type": "code",
   "execution_count": null,
   "metadata": {},
   "outputs": [],
   "source": [
    "coursera_data.to_csv(r'C:\\Users\\romin\\Documents\\PROGRAMACION\\CIENCIA DE DATOS\\HENRY\\LABS\\PROYECTO INDIVIDUAL 2 analytics\\repo P2\\dsets\\C_data.csv')"
   ]
  }
 ],
 "metadata": {
  "kernelspec": {
   "display_name": "Python 3",
   "language": "python",
   "name": "python3"
  },
  "language_info": {
   "codemirror_mode": {
    "name": "ipython",
    "version": 3
   },
   "file_extension": ".py",
   "mimetype": "text/x-python",
   "name": "python",
   "nbconvert_exporter": "python",
   "pygments_lexer": "ipython3",
   "version": "3.11.0"
  },
  "orig_nbformat": 4
 },
 "nbformat": 4,
 "nbformat_minor": 2
}
